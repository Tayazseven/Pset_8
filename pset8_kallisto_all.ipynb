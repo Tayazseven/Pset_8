{
 "cells": [
  {
   "cell_type": "code",
   "execution_count": 2,
   "metadata": {
    "collapsed": false
   },
   "outputs": [],
   "source": [
    "import os\n",
    "import sys"
   ]
  },
  {
   "cell_type": "code",
   "execution_count": 6,
   "metadata": {
    "collapsed": true
   },
   "outputs": [],
   "source": [
    "crr_dir_fastq = filter(lambda x: '.fastq.gz' in x, os.listdir('.'))\n",
    "fastq_name = [x.split('.',1)[0] for x in crr_dir_fastq]"
   ]
  },
  {
   "cell_type": "code",
   "execution_count": 10,
   "metadata": {
    "collapsed": false
   },
   "outputs": [],
   "source": [
    "for f in fastq_name:\n",
    "    os.makedirs(f)\n",
    "    cmd = '/usr/home/m/077/tug51373/Seq/Final/kallisto_linux-v0.43.1/kallisto quant -i Scer_transcrptom.idx -o {} --single -l 180 -s 20 {}.fastq'.format(s,s)\n",
    "    os.system(cmd)"
   ]
  },
  {
   "cell_type": "code",
   "execution_count": 5,
   "metadata": {
    "collapsed": false
   },
   "outputs": [
    {
     "name": "stdout",
     "output_type": "stream",
     "text": [
      "ERR458493\n",
      "ERR458500\n",
      "ERR458507\n",
      "ERR458514\n",
      "ERR458521\n",
      "ERR458528\n",
      "ERR458878\n",
      "ERR458885\n",
      "ERR458892\n",
      "ERR458899\n"
     ]
    }
   ],
   "source": [
    "\n"
   ]
  },
  {
   "cell_type": "code",
   "execution_count": null,
   "metadata": {
    "collapsed": true
   },
   "outputs": [],
   "source": []
  }
 ],
 "metadata": {
  "kernelspec": {
   "display_name": "Python 2",
   "language": "python",
   "name": "python2"
  },
  "language_info": {
   "codemirror_mode": {
    "name": "ipython",
    "version": 2
   },
   "file_extension": ".py",
   "mimetype": "text/x-python",
   "name": "python",
   "nbconvert_exporter": "python",
   "pygments_lexer": "ipython2",
   "version": "2.7.13"
  }
 },
 "nbformat": 4,
 "nbformat_minor": 2
}
